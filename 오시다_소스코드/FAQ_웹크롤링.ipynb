{
  "cells": [
    {
      "cell_type": "code",
      "execution_count": 1,
      "id": "ba96e300-76dd-4a61-b2d2-cc6c436349f6",
      "metadata": {
        "id": "ba96e300-76dd-4a61-b2d2-cc6c436349f6"
      },
      "outputs": [],
      "source": [
        "# import|n"
        "import requests\n",
        "from bs4 import BeautifulSoup\n",
        "import warnings\n",
        "import pandas as pd\n",
        "\n",
        "# BeautifulSoup에서 나오는 불필요한 경고 무시\n",
        "warnings.filterwarnings(\"ignore\", category=UserWarning, module='bs4')\n",
        "\n",
        "faq_data = []\n",
        "\n",
        "# /faq/1 ~ /faq/6 순회\n",
        "for num in range(1, 7):\n",
        "    url = f\"https://german-village.kr/faq/{num}\"\n",
        "    response = requests.get(url)\n",
        "\n",
        "    # 200 OK인 경우에만 처리\n",
        "    if response.status_code == 200:\n",
        "        soup = BeautifulSoup(response.text, \"html.parser\")\n",
        "\n",
        "        # 제목 추출 시도\n",
        "        title = soup.find(\"h2\", class_=\"mb-[26px] text-[32px] font-bold\")\n",
        "        if not title:\n",
        "            # 제목이 없으면 데이터에 추가하지 않고 넘어감\n",
        "            continue\n",
        "\n",
        "        title_text = title.get_text(strip=True)\n",
        "\n",
        "        # 본문 추출\n",
        "        content_div = soup.find(\"div\", class_=\"noTailwind\")\n",
        "        content_text = content_div.get_text(strip=True) if content_div else \"FAQ 본문을 찾을 수 없습니다.\"\n",
        "\n",
        "        # 해당 FAQ 정보를 딕셔너리 형태로 저장\n",
        "        faq_data.append({\n",
        "            \"question\": title_text,\n",
        "            \"answer\": content_text,\n",
        "            \"url\": url  # 필요 없다면 제거 가능\n",
        "        })\n",
        "    else:\n",
        "        # 페이지가 없거나(404 등) 다른 에러 발생 시 건너뜀\n",
        "        continue\n",
        "\n",
        "# 모든 FAQ 데이터를 데이터프레임으로 변환\n",
        "df = pd.DataFrame(faq_data, columns=[\"question\", \"answer\", \"url\"])\n",
        "\n",
        "# df 변수 안에 1~6까지 페이지 중 정상 응답 & 제목이 존재하는 FAQ 정보가 담깁니다.\n",
        "# 예시) df.to_csv(\"faq_output.csv\", index=False)"
      ]
    },
    {
      "cell_type": "code",
      "execution_count": 2,
      "id": "cc0ec5ff-52a2-4d4d-9485-49f06f4c7d72",
      "metadata": {
        "id": "cc0ec5ff-52a2-4d4d-9485-49f06f4c7d72"
      },
      "outputs": [],
      "source": [
        "df.to_csv('fine_tuning_expanded.csv', index=False)"
      ]
    },
    {
      "cell_type": "code",
      "execution_count": 3,
      "id": "e895a9ff-2568-4965-a7f2-83463a6cd09e",
      "metadata": {
        "colab": {
          "base_uri": "https://localhost:8080/"
        },
        "id": "e895a9ff-2568-4965-a7f2-83463a6cd09e",
        "outputId": "0a550514-32be-4e54-aaeb-79129df1d80f"
      },
      "outputs": [
        {
          "name": "stdout",
          "output_type": "stream",
          "text": [
            "CSV 파일에 새로운 Q&A 행들을 성공적으로 추가했습니다!\n"
          ]
        }
      ],
      "source": [
        "import csv\n",
        "\n",
        "# '독일마을_FAQ.csv'의 실제 경로를 적어 주세요.\n",
        "# 아래는 예시입니다. (Windows 사용자라면 경로를 정확히 지정)\n",
        "filename = 'fine_tuning_expanded.csv'\n",
        "\n",
        "# 추가할 Q&A (url 칼럼은 빈 문자열(\"\"))\n",
        "new_data = [\n",
        "    (\"해변에서 개인 파라솔이나 그늘막텐트 이용이 가능한가요?\",\n",
        "     \"해수욕장 개장기간(7~8월중)에는 개인 파라솔 및 그늘막텐트 이용구역이 제한됩니다.\",\n",
        "     \"\"),\n",
        "    (\"해수욕장 출입이 상시 가능한가요?\",\n",
        "     \"백사장 출입은 연중무휴 가능합니다. 단 기상 여건이 악화될 때에는 백사장 출입이 제한됩니다.\",\n",
        "     \"\"),\n",
        "    (\"흡연이 가능할까요?\",\n",
        "     \"상주은모래비치 전 구역은 자연공원법에 의해 금연구역으로 지정되어 있습니다.\",\n",
        "     \"\"),\n",
        "    (\"주차 요금은 무료인가요?\",\n",
        "     \"주차 요금은 무료입니다. 공영주차장과 임시주차장을 포함하여 최대 1,000대까지 주차할 수 있습니다.\",\n",
        "     \"\"),\n",
        "    (\"반려동물을 데리고 올 수 있나요?\",\n",
        "     \"해수욕장은 2023년 해수욕장 개장일부터 상주은모래비치 동편(상주중학교 동편 담장부터 해변 동쪽 끝까지 구역)에 반려동물 구역이 설정되어, 반려동물과 함께 해수욕이 가능합니다.\",\n",
        "     \"\"),\n",
        "    (\"와이파이가 가능한가요?\",\n",
        "     \"상주은모래비치 대부분의 지역에는 주요 통신사(SKT, KT, LG U+) 와이파이와 남해군에서 설치한 공공 와이파이가 설치되어 있습니다. 하절기에는 3사 통신사에서 중계 장비를 추가적으로 증설합니다.\",\n",
        "     \"\"),\n",
        "    (\"무인기(드론) 운용 및 촬영이 가능한가요?\",\n",
        "     \"상주은모래비치 지역은 초경량비행장치 전용공역에 포함되어 드론 운용 시 별도의 허가가 필요하지 않습니다.\",\n",
        "     \"\")\n",
        "]\n",
        "\n",
        "# 기존 CSV 파일에 \"추가\" 모드(a)로 열기\n",
        "with open(filename, mode=\"a\", newline=\"\", encoding=\"utf-8\") as f:\n",
        "    writer = csv.writer(f)\n",
        "    writer.writerows(new_data)\n",
        "\n",
        "print(\"CSV 파일에 새로운 Q&A 행들을 성공적으로 추가했습니다!\")\n"
      ]
    }
  ],
  "metadata": {
    "colab": {
      "provenance": []
    },
    "kernelspec": {
      "display_name": "Python 3 (ipykernel)",
      "language": "python",
      "name": "python3"
    },
    "language_info": {
      "codemirror_mode": {
        "name": "ipython",
        "version": 3
      },
      "file_extension": ".py",
      "mimetype": "text/x-python",
      "name": "python",
      "nbconvert_exporter": "python",
      "pygments_lexer": "ipython3",
      "version": "3.12.4"
    }
  },
  "nbformat": 4,
  "nbformat_minor": 5
}
